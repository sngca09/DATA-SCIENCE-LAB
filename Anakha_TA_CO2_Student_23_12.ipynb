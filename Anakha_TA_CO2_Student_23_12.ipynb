{
  "nbformat": 4,
  "nbformat_minor": 0,
  "metadata": {
    "colab": {
      "name": "Anakha TA CO2-Student 23/12",
      "provenance": [],
      "collapsed_sections": [],
      "include_colab_link": true
    },
    "kernelspec": {
      "name": "python3",
      "display_name": "Python 3"
    },
    "language_info": {
      "name": "python"
    }
  },
  "cells": [
    {
      "cell_type": "markdown",
      "metadata": {
        "id": "view-in-github",
        "colab_type": "text"
      },
      "source": [
        "<a href=\"https://colab.research.google.com/github/sngca09/DATA-SCIENCE-LAB/blob/main/Anakha_TA_CO2_Student_23_12.ipynb\" target=\"_parent\"><img src=\"https://colab.research.google.com/assets/colab-badge.svg\" alt=\"Open In Colab\"/></a>"
      ]
    },
    {
      "cell_type": "markdown",
      "source": [
        "Aim: Program to implement k-NN classification using any standard dataset\n",
        "available in the public domain and find the accuracy of the algorithm"
      ],
      "metadata": {
        "id": "1-G_D6HglkG5"
      }
    },
    {
      "cell_type": "markdown",
      "source": [
        "Algorithm: \n",
        "\n",
        "The class of an unknown instance is computed using the following steps:\n",
        "\n",
        "1. The distance between the unknown instance and all other training instances is computed.\n",
        "2. The k nearest neighbors are identified.\n",
        "3. The class labels of the k nearest neighbors are used to determine the class label of the unknown instance by using techniques like majority voting."
      ],
      "metadata": {
        "id": "O4oCOHITmArc"
      }
    },
    {
      "cell_type": "code",
      "source": [
        "from sklearn import neighbors, datasets, preprocessing\n",
        "from sklearn.model_selection import train_test_split\n",
        "from sklearn.metrics import accuracy_score\n",
        "from sklearn.metrics import confusion_matrix\n",
        "from sklearn.metrics import classification_report\n",
        "iris=datasets.load_iris()\n",
        "x,y=iris.data[:,:],iris.target\n",
        "x_train,x_test,y_train,y_test=train_test_split(x,y,stratify=y,random_state=20,train_size=.8)\n"
      ],
      "metadata": {
        "id": "IEpxOP01lnhy"
      },
      "execution_count": null,
      "outputs": []
    },
    {
      "cell_type": "code",
      "source": [
        "# Identify the ideal value for k\n",
        "score=[]\n",
        "for k in range(1,15):\n",
        "  knn=neighbors.KNeighborsClassifier(n_neighbors=k)\n",
        "  knn.fit(x_train,y_train)\n",
        "  y_pred=knn.predict(x_test)\n",
        "  score.append(accuracy_score(y_test,y_pred))\n",
        "  print(\"when k=%s, accu is %s\"%(k,accuracy_score(y_test,y_pred)))\n",
        "\n"
      ],
      "metadata": {
        "id": "ajHWz-LCmg8r",
        "colab": {
          "base_uri": "https://localhost:8080/"
        },
        "outputId": "8bfdbebf-fc77-4639-cea4-974258b5d8a5"
      },
      "execution_count": null,
      "outputs": [
        {
          "output_type": "stream",
          "name": "stdout",
          "text": [
            "when k=1, accu is 0.9666666666666667\n",
            "when k=2, accu is 0.9666666666666667\n",
            "when k=3, accu is 0.9666666666666667\n",
            "when k=4, accu is 0.9666666666666667\n",
            "when k=5, accu is 0.9666666666666667\n",
            "when k=6, accu is 0.9666666666666667\n",
            "when k=7, accu is 0.9666666666666667\n",
            "when k=8, accu is 0.9666666666666667\n",
            "when k=9, accu is 0.9666666666666667\n",
            "when k=10, accu is 0.9666666666666667\n",
            "when k=11, accu is 1.0\n",
            "when k=12, accu is 1.0\n",
            "when k=13, accu is 1.0\n",
            "when k=14, accu is 1.0\n"
          ]
        }
      ]
    },
    {
      "cell_type": "code",
      "source": [
        "from numpy.ma.extras import notmasked_contiguous\n",
        "# S4.2: Train kNN regressor model for 'k = 6'.\n",
        "knn6=neighbors.KNeighborsClassifier(n_neighbors=6)\n",
        "knn6.fit(x_train,y_train)\n",
        "\n",
        "# Perform prediction using 'predict()' function.\n",
        "\n",
        "y_t_pre=knn6.predict(x_test)\n",
        "# Call the 'score()' function to check the accuracy score of the train set and test set.\n",
        "print(\"test set accuracy=\",knn6.score(x_test,y_test))\n",
        "print(\"confusion matrix\")\n",
        "print(confusion_matrix(y_test,y_t_pre))\n",
        "print(classification_report(y_test,y_t_pre))"
      ],
      "metadata": {
        "id": "Lappjoo8eZ51",
        "colab": {
          "base_uri": "https://localhost:8080/"
        },
        "outputId": "d9f910d9-199b-4a42-aaa7-8d8d0aaebd6f"
      },
      "execution_count": null,
      "outputs": [
        {
          "output_type": "stream",
          "name": "stdout",
          "text": [
            "test set accuracy= 0.9666666666666667\n",
            "confusion matrix\n",
            "[[10  0  0]\n",
            " [ 0 10  0]\n",
            " [ 0  1  9]]\n",
            "              precision    recall  f1-score   support\n",
            "\n",
            "           0       1.00      1.00      1.00        10\n",
            "           1       0.91      1.00      0.95        10\n",
            "           2       1.00      0.90      0.95        10\n",
            "\n",
            "    accuracy                           0.97        30\n",
            "   macro avg       0.97      0.97      0.97        30\n",
            "weighted avg       0.97      0.97      0.97        30\n",
            "\n"
          ]
        }
      ]
    }
  ]
}