{
  "nbformat": 4,
  "nbformat_minor": 0,
  "metadata": {
    "colab": {
      "name": "25/11/21 CO1-Histogram & Countplot-ANAKHA TA",
      "provenance": [],
      "collapsed_sections": [],
      "include_colab_link": true
    },
    "kernelspec": {
      "name": "python3",
      "display_name": "Python 3"
    }
  },
  "cells": [
    {
      "cell_type": "markdown",
      "metadata": {
        "id": "view-in-github",
        "colab_type": "text"
      },
      "source": [
        "<a href=\"https://colab.research.google.com/github/sngca09/DATA-SCIENCE-LAB/blob/main/25_11_21_CO1_Histogram_%26_Countplot_ANAKHA_TA.ipynb\" target=\"_parent\"><img src=\"https://colab.research.google.com/assets/colab-badge.svg\" alt=\"Open In Colab\"/></a>"
      ]
    },
    {
      "cell_type": "markdown",
      "metadata": {
        "id": "0dG-Pm9-UpYh"
      },
      "source": [
        "#### Activity 1: Create Customized Line plots.\n",
        "\n",
        "Given the dataset of the average annual salary (in dollars) of developers of various programming languages. Create customized line plots to compare the salary variations **Age-wise** for **Python** developer with **Javascript** developer.\n",
        "\n",
        "**Link to the Dataset**: https://raw.githubusercontent.com/CoreyMSchafer/code_snippets/master/Python/Matplotlib/10-Subplots/data.csv "
      ]
    },
    {
      "cell_type": "code",
      "metadata": {
        "id": "yYlWfTFxUx8C",
        "colab": {
          "base_uri": "https://localhost:8080/",
          "height": 206
        },
        "outputId": "ab4eab11-024c-475e-dc81-e4d6511805ca"
      },
      "source": [
        "# Step 1: Import necessary modules to create dataframe and line plots \n",
        "import pandas as pd\n",
        "import matplotlib.pyplot as plt\n",
        "import numpy as np\n",
        "\n",
        "\n",
        "# Step 2: Create a Dataframe and store it in a variable from the given dataset\n",
        "ds=pd.read_csv('https://raw.githubusercontent.com/CoreyMSchafer/code_snippets/master/Python/Matplotlib/10-Subplots/data.csv')\n",
        "\n",
        "\n",
        "# Print the first 5 rows in the DataFrame\n",
        "ds.head()\n",
        "\n"
      ],
      "execution_count": null,
      "outputs": [
        {
          "output_type": "execute_result",
          "data": {
            "text/html": [
              "<div>\n",
              "<style scoped>\n",
              "    .dataframe tbody tr th:only-of-type {\n",
              "        vertical-align: middle;\n",
              "    }\n",
              "\n",
              "    .dataframe tbody tr th {\n",
              "        vertical-align: top;\n",
              "    }\n",
              "\n",
              "    .dataframe thead th {\n",
              "        text-align: right;\n",
              "    }\n",
              "</style>\n",
              "<table border=\"1\" class=\"dataframe\">\n",
              "  <thead>\n",
              "    <tr style=\"text-align: right;\">\n",
              "      <th></th>\n",
              "      <th>Age</th>\n",
              "      <th>All_Devs</th>\n",
              "      <th>Python</th>\n",
              "      <th>JavaScript</th>\n",
              "    </tr>\n",
              "  </thead>\n",
              "  <tbody>\n",
              "    <tr>\n",
              "      <th>0</th>\n",
              "      <td>18</td>\n",
              "      <td>17784</td>\n",
              "      <td>20046</td>\n",
              "      <td>16446</td>\n",
              "    </tr>\n",
              "    <tr>\n",
              "      <th>1</th>\n",
              "      <td>19</td>\n",
              "      <td>16500</td>\n",
              "      <td>17100</td>\n",
              "      <td>16791</td>\n",
              "    </tr>\n",
              "    <tr>\n",
              "      <th>2</th>\n",
              "      <td>20</td>\n",
              "      <td>18012</td>\n",
              "      <td>20000</td>\n",
              "      <td>18942</td>\n",
              "    </tr>\n",
              "    <tr>\n",
              "      <th>3</th>\n",
              "      <td>21</td>\n",
              "      <td>20628</td>\n",
              "      <td>24744</td>\n",
              "      <td>21780</td>\n",
              "    </tr>\n",
              "    <tr>\n",
              "      <th>4</th>\n",
              "      <td>22</td>\n",
              "      <td>25206</td>\n",
              "      <td>30500</td>\n",
              "      <td>25704</td>\n",
              "    </tr>\n",
              "  </tbody>\n",
              "</table>\n",
              "</div>"
            ],
            "text/plain": [
              "   Age  All_Devs  Python  JavaScript\n",
              "0   18     17784   20046       16446\n",
              "1   19     16500   17100       16791\n",
              "2   20     18012   20000       18942\n",
              "3   21     20628   24744       21780\n",
              "4   22     25206   30500       25704"
            ]
          },
          "metadata": {},
          "execution_count": 29
        }
      ]
    },
    {
      "cell_type": "code",
      "metadata": {
        "id": "KYfflY2cd3Ow",
        "colab": {
          "base_uri": "https://localhost:8080/",
          "height": 291
        },
        "outputId": "b1fab389-70e8-4844-c035-7e5a26491fd6"
      },
      "source": [
        "# Step 3: Create a customised line plot for comparing the Age-wise annual salary variations for Python developer with JavaScript developer.  Use the 'seaborn-dark' style\n",
        "plt.figure(figsize=(16,4))\n",
        "plt.style.use('dark_background')\n",
        "plt.title('comparing age_wise annual salary variations for py-dev with java-dev')\n",
        "plt.plot(ds['Python'],'r-o',label='python')\n",
        "plt.plot(ds['JavaScript'],'g--o',label='js')\n",
        "plt.legend()\n",
        "plt.xlabel('Age')\n",
        "plt.ylabel('salary')\n",
        "plt.grid()"
      ],
      "execution_count": null,
      "outputs": [
        {
          "output_type": "display_data",
          "data": {
            "image/png": "[encoded data removed]",
            "text/plain": [
              "<Figure size 1152x288 with 1 Axes>"
            ]
          },
          "metadata": {}
        }
      ]
    },
    {
      "cell_type": "markdown",
      "metadata": {
        "id": "PLSY4nu0UzCj"
      },
      "source": [
        "**Q**: What can you conclude from the above comparison ?\n",
        "\n",
        "**A**: python dev have higher salary than javascript developer"
      ]
    },
    {
      "cell_type": "markdown",
      "metadata": {
        "id": "BVT9G_baB1aq"
      },
      "source": [
        "#### Activity 2.1: Create a Pandas DataFrame\n",
        "\n",
        "Create a Pandas DataFrame by using the below link which has the dataset of Tips taken on the total bill amount in restaurants in the CSV format: \n",
        "\n",
        "**Dataset Link** : https://raw.githubusercontent.com/jiss-github123/tips/main/tips.csv\n",
        "\n",
        "Also, print the first five rows of the dataset."
      ]
    },
    {
      "cell_type": "code",
      "metadata": {
        "id": "0pIGxKG9B3mb",
        "colab": {
          "base_uri": "https://localhost:8080/",
          "height": 206
        },
        "outputId": "b3a09d9f-d69f-4d0c-eb82-82e16eee595f"
      },
      "source": [
        "# Create a pandas DataFrame\n",
        "import seaborn as sns\n",
        "ds1=pd.read_csv('https://raw.githubusercontent.com/jiss-github123/tips/main/tips.csv')\n",
        "ds1.head()"
      ],
      "execution_count": null,
      "outputs": [
        {
          "output_type": "execute_result",
          "data": {
            "text/html": [
              "<div>\n",
              "<style scoped>\n",
              "    .dataframe tbody tr th:only-of-type {\n",
              "        vertical-align: middle;\n",
              "    }\n",
              "\n",
              "    .dataframe tbody tr th {\n",
              "        vertical-align: top;\n",
              "    }\n",
              "\n",
              "    .dataframe thead th {\n",
              "        text-align: right;\n",
              "    }\n",
              "</style>\n",
              "<table border=\"1\" class=\"dataframe\">\n",
              "  <thead>\n",
              "    <tr style=\"text-align: right;\">\n",
              "      <th></th>\n",
              "      <th>total_bill</th>\n",
              "      <th>tip</th>\n",
              "      <th>sex</th>\n",
              "      <th>smoker</th>\n",
              "      <th>day</th>\n",
              "      <th>time</th>\n",
              "      <th>size</th>\n",
              "    </tr>\n",
              "  </thead>\n",
              "  <tbody>\n",
              "    <tr>\n",
              "      <th>0</th>\n",
              "      <td>16.99</td>\n",
              "      <td>1.01</td>\n",
              "      <td>Female</td>\n",
              "      <td>No</td>\n",
              "      <td>Sun</td>\n",
              "      <td>Dinner</td>\n",
              "      <td>2</td>\n",
              "    </tr>\n",
              "    <tr>\n",
              "      <th>1</th>\n",
              "      <td>10.34</td>\n",
              "      <td>1.66</td>\n",
              "      <td>Male</td>\n",
              "      <td>No</td>\n",
              "      <td>Sun</td>\n",
              "      <td>Dinner</td>\n",
              "      <td>3</td>\n",
              "    </tr>\n",
              "    <tr>\n",
              "      <th>2</th>\n",
              "      <td>21.01</td>\n",
              "      <td>3.50</td>\n",
              "      <td>Male</td>\n",
              "      <td>No</td>\n",
              "      <td>Sun</td>\n",
              "      <td>Dinner</td>\n",
              "      <td>3</td>\n",
              "    </tr>\n",
              "    <tr>\n",
              "      <th>3</th>\n",
              "      <td>23.68</td>\n",
              "      <td>3.31</td>\n",
              "      <td>Male</td>\n",
              "      <td>No</td>\n",
              "      <td>Sun</td>\n",
              "      <td>Dinner</td>\n",
              "      <td>2</td>\n",
              "    </tr>\n",
              "    <tr>\n",
              "      <th>4</th>\n",
              "      <td>24.59</td>\n",
              "      <td>3.61</td>\n",
              "      <td>Female</td>\n",
              "      <td>No</td>\n",
              "      <td>Sun</td>\n",
              "      <td>Dinner</td>\n",
              "      <td>4</td>\n",
              "    </tr>\n",
              "  </tbody>\n",
              "</table>\n",
              "</div>"
            ],
            "text/plain": [
              "   total_bill   tip     sex smoker  day    time  size\n",
              "0       16.99  1.01  Female     No  Sun  Dinner     2\n",
              "1       10.34  1.66    Male     No  Sun  Dinner     3\n",
              "2       21.01  3.50    Male     No  Sun  Dinner     3\n",
              "3       23.68  3.31    Male     No  Sun  Dinner     2\n",
              "4       24.59  3.61  Female     No  Sun  Dinner     4"
            ]
          },
          "metadata": {},
          "execution_count": 31
        }
      ]
    },
    {
      "cell_type": "markdown",
      "metadata": {
        "id": "g5ojkSnpCnQg"
      },
      "source": [
        "#### Activity 2.2: Create a Gender wise Count plot\n",
        "\n",
        "Create a gender wise count plot by using the values in the `sex` column. "
      ]
    },
    {
      "cell_type": "code",
      "metadata": {
        "id": "UlGejEowCtAE",
        "colab": {
          "base_uri": "https://localhost:8080/",
          "height": 346
        },
        "outputId": "299d21a3-b3fa-4229-81eb-b1cc29ac0529"
      },
      "source": [
        "# Gender wise count plot for the 'sex' values in the 'tip_df' DataFrame on the x-axis.\n",
        "plt.figure(figsize=(16,4))\n",
        "plt.style.use('seaborn-dark')\n",
        "plt.title('gender wise countplot')\n",
        "sns.countplot(ds1['sex']) #sns.countplot(x='sex',data='ds1')\n",
        "plt.grid()\n",
        "plt.show()\n",
        "\n"
      ],
      "execution_count": null,
      "outputs": [
        {
          "output_type": "stream",
          "name": "stderr",
          "text": [
            "/usr/local/lib/python3.7/dist-packages/seaborn/_decorators.py:43: FutureWarning: Pass the following variable as a keyword arg: x. From version 0.12, the only valid positional argument will be `data`, and passing other arguments without an explicit keyword will result in an error or misinterpretation.\n",
            "  FutureWarning\n"
          ]
        },
        {
          "output_type": "display_data",
          "data": {
            "image/png": "[encoded data removed]",
            "text/plain": [
              "<Figure size 1152x288 with 1 Axes>"
            ]
          },
          "metadata": {}
        }
      ]
    },
    {
      "cell_type": "markdown",
      "metadata": {
        "id": "HSb3LhQkCyEZ"
      },
      "source": [
        "So according to the above count plot, the number of `Female` is less than the number of `Male` in the dataset."
      ]
    },
    {
      "cell_type": "markdown",
      "metadata": {
        "id": "EWT5qwtSCzrD"
      },
      "source": [
        "**Q** : Which gender is recorded more in the dataset ?\n",
        "\n",
        "**A** :male"
      ]
    },
    {
      "cell_type": "markdown",
      "metadata": {
        "id": "PIqqLcdHnrwG"
      },
      "source": [
        "#### Activity 3: Histogram using `hist()` Function\n",
        "\n",
        "Given a list of random age of 100 individuals in a range between 1 and 91. Write a code to visualise the values in the list using a histogram.\n",
        "\n",
        "```\n",
        "age_list = [1,1,2,3,3,5,7,8,9,10,\n",
        "     10,11,11,13,13,15,16,17,18,18,\n",
        "     18,19,20,21,21,23,24,24,25,25,\n",
        "     25,25,26,26,26,27,27,27,27,27,\n",
        "     29,30,30,31,33,34,34,34,35,36,\n",
        "     36,37,37,38,38,39,40,41,41,42,\n",
        "     43,44,45,45,46,47,48,48,49,50,\n",
        "     51,52,53,54,55,55,56,57,58,60,\n",
        "     61,63,64,65,66,68,70,71,72,74,\n",
        "     75,77,81,83,84,87,89,90,90,91\n",
        "     ]\n",
        "```\n",
        "\n",
        "**Steps to Follow**:\n",
        "\n",
        "1. Import the `matplotlib.pyplot` module.\n",
        "\n",
        "2. Set the size of the plot using the `figsize` attribute of the `figure()` function.\n",
        "\n",
        "3. Pass the `age_list` list inside the `hist()` function and set `bins = 10`.\n",
        "\n",
        "4. Display the histogram using the `show()` function of the `matplotlib.pyplot` module."
      ]
    },
    {
      "cell_type": "code",
      "metadata": {
        "id": "m6KfoItXnrwR",
        "colab": {
          "base_uri": "https://localhost:8080/",
          "height": 277
        },
        "outputId": "58a528ee-a0dd-4c58-b019-f790477e610e"
      },
      "source": [
        "# Import the 'matplotlib.pyplot' module.\n",
        "import matplotlib.pyplot as plt\n",
        "age_list = [1,1,2,3,3,5,7,8,9,10,\n",
        "     10,11,11,13,13,15,16,17,18,18,\n",
        "     18,19,20,21,21,23,24,24,25,25,\n",
        "     25,25,26,26,26,27,27,27,27,27,\n",
        "     29,30,30,31,33,34,34,34,35,36,\n",
        "     36,37,37,38,38,39,40,41,41,42,\n",
        "     43,44,45,45,46,47,48,48,49,50,\n",
        "     51,52,53,54,55,55,56,57,58,60,\n",
        "     61,63,64,65,66,68,70,71,72,74,\n",
        "     75,77,81,83,84,87,89,90,90,91\n",
        "     ]\n",
        "\n",
        "\n",
        "# Set the size of the plot using the 'figsize' attribute of the 'figure()' function.\n",
        "plt.figure(figsize=(16,4))\n",
        "plt.title('histogram')\n",
        "\n",
        "\n",
        "# Pass the 'age_list' list inside the 'hist()' function and set 'bins = 10'.\n",
        "plt.hist(age_list,bins=10,color='purple')\n",
        "plt.grid()\n",
        "# Display the histogram using the 'show()' function of the 'matplotlib.pyplot' module.\n",
        "plt.show()"
      ],
      "execution_count": null,
      "outputs": [
        {
          "output_type": "display_data",
          "data": {
            "image/png": "[encoded data removed]",
            "text/plain": [
              "<Figure size 1152x288 with 1 Axes>"
            ]
          },
          "metadata": {}
        }
      ]
    }
  ]
}